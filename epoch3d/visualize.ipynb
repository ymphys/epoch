{
 "cells": [
  {
   "cell_type": "code",
   "execution_count": 1,
   "metadata": {},
   "outputs": [],
   "source": [
    "import sys\n",
    "sys.path.append('../SDF/utilities')\n",
    "import sdf_helper as sh\n",
    "import numpy as np\n",
    "import matplotlib.pyplot as plt"
   ]
  },
  {
   "cell_type": "code",
   "execution_count": 2,
   "metadata": {},
   "outputs": [
    {
     "name": "stdout",
     "output_type": "stream",
     "text": [
      "Reading file ./Data/0000.sdf\n",
      "t() = time\n",
      "x(251, 251, 251) = grid\n",
      "y(251, 251, 251) = grid\n",
      "z(251, 251, 251) = grid\n",
      "xc(250, 250, 250) = grid_mid\n",
      "yc(250, 250, 250) = grid_mid\n",
      "zc(250, 250, 250) = grid_mid\n"
     ]
    }
   ],
   "source": [
    "# load data\n",
    "data = sh.getdata('./Data/0000.sdf')"
   ]
  },
  {
   "cell_type": "code",
   "execution_count": 3,
   "metadata": {},
   "outputs": [
    {
     "name": "stdout",
     "output_type": "stream",
     "text": [
      "Variables in the data file:\n",
      "CPUs_Current_rank <class 'sdf.BlockPlainVariable'> [0, 0, 0]\n",
      "CPUs_Original_rank <class 'sdf.BlockPlainVariable'> [2, 2, 2]\n",
      "Derived_Number_Density <class 'sdf.BlockPlainVariable'> [250, 250, 250]\n",
      "Derived_Number_Density_electron <class 'sdf.BlockPlainVariable'> [250, 250, 250]\n",
      "Derived_Number_Density_proton <class 'sdf.BlockPlainVariable'> [250, 250, 250]\n",
      "Grid_CPUs_Original_rank <class 'sdf.BlockPlainMesh'> [3, 3, 3]\n",
      "Grid_CPUs_Original_rank_mid <class 'sdf.BlockPlainMesh'> [2, 2, 2]\n",
      "Grid_Grid <class 'sdf.BlockPlainMesh'> [251, 251, 251]\n",
      "Grid_Grid_mid <class 'sdf.BlockPlainMesh'> [250, 250, 250]\n",
      "Surface_Values_boundary_CPUs_Current_rank <class 'sdf.BlockPlainVariable'> [0, 0, 0]\n",
      "Surface_Values_boundary_CPUs_Original_rank <class 'sdf.BlockPlainVariable'> [2, 2, 2]\n",
      "Surface_Values_boundary_Derived_Number_Density <class 'sdf.BlockPlainVariable'> [250, 250, 250]\n",
      "Surface_Values_boundary_Derived_Number_Density_electron <class 'sdf.BlockPlainVariable'> [250, 250, 250]\n",
      "Surface_Values_boundary_Derived_Number_Density_proton <class 'sdf.BlockPlainVariable'> [250, 250, 250]\n",
      "Surface_Values_boundary_x_max_CPUs_Current_rank <class 'sdf.BlockPlainVariable'> [0, 0, 0]\n",
      "Surface_Values_boundary_x_max_CPUs_Original_rank <class 'sdf.BlockPlainVariable'> [2, 2, 2]\n",
      "Surface_Values_boundary_x_max_Derived_Number_Density <class 'sdf.BlockPlainVariable'> [250, 250, 250]\n",
      "Surface_Values_boundary_x_max_Derived_Number_Density_electron <class 'sdf.BlockPlainVariable'> [250, 250, 250]\n",
      "Surface_Values_boundary_x_max_Derived_Number_Density_proton <class 'sdf.BlockPlainVariable'> [250, 250, 250]\n",
      "Surface_Values_boundary_x_min_CPUs_Current_rank <class 'sdf.BlockPlainVariable'> [0, 0, 0]\n",
      "Surface_Values_boundary_x_min_CPUs_Original_rank <class 'sdf.BlockPlainVariable'> [2, 2, 2]\n",
      "Surface_Values_boundary_x_min_Derived_Number_Density <class 'sdf.BlockPlainVariable'> [250, 250, 250]\n",
      "Surface_Values_boundary_x_min_Derived_Number_Density_electron <class 'sdf.BlockPlainVariable'> [250, 250, 250]\n",
      "Surface_Values_boundary_x_min_Derived_Number_Density_proton <class 'sdf.BlockPlainVariable'> [250, 250, 250]\n",
      "Surface_Values_boundary_y_max_CPUs_Current_rank <class 'sdf.BlockPlainVariable'> [0, 0, 0]\n",
      "Surface_Values_boundary_y_max_CPUs_Original_rank <class 'sdf.BlockPlainVariable'> [2, 2, 2]\n",
      "Surface_Values_boundary_y_max_Derived_Number_Density <class 'sdf.BlockPlainVariable'> [250, 250, 250]\n",
      "Surface_Values_boundary_y_max_Derived_Number_Density_electron <class 'sdf.BlockPlainVariable'> [250, 250, 250]\n",
      "Surface_Values_boundary_y_max_Derived_Number_Density_proton <class 'sdf.BlockPlainVariable'> [250, 250, 250]\n",
      "Surface_Values_boundary_y_min_CPUs_Current_rank <class 'sdf.BlockPlainVariable'> [0, 0, 0]\n",
      "Surface_Values_boundary_y_min_CPUs_Original_rank <class 'sdf.BlockPlainVariable'> [2, 2, 2]\n",
      "Surface_Values_boundary_y_min_Derived_Number_Density <class 'sdf.BlockPlainVariable'> [250, 250, 250]\n",
      "Surface_Values_boundary_y_min_Derived_Number_Density_electron <class 'sdf.BlockPlainVariable'> [250, 250, 250]\n",
      "Surface_Values_boundary_y_min_Derived_Number_Density_proton <class 'sdf.BlockPlainVariable'> [250, 250, 250]\n",
      "Surface_Values_boundary_z_max_CPUs_Current_rank <class 'sdf.BlockPlainVariable'> [0, 0, 0]\n",
      "Surface_Values_boundary_z_max_CPUs_Original_rank <class 'sdf.BlockPlainVariable'> [2, 2, 2]\n",
      "Surface_Values_boundary_z_max_Derived_Number_Density <class 'sdf.BlockPlainVariable'> [250, 250, 250]\n",
      "Surface_Values_boundary_z_max_Derived_Number_Density_electron <class 'sdf.BlockPlainVariable'> [250, 250, 250]\n",
      "Surface_Values_boundary_z_max_Derived_Number_Density_proton <class 'sdf.BlockPlainVariable'> [250, 250, 250]\n",
      "Surface_Values_boundary_z_min_CPUs_Current_rank <class 'sdf.BlockPlainVariable'> [0, 0, 0]\n",
      "Surface_Values_boundary_z_min_CPUs_Original_rank <class 'sdf.BlockPlainVariable'> [2, 2, 2]\n",
      "Surface_Values_boundary_z_min_Derived_Number_Density <class 'sdf.BlockPlainVariable'> [250, 250, 250]\n",
      "Surface_Values_boundary_z_min_Derived_Number_Density_electron <class 'sdf.BlockPlainVariable'> [250, 250, 250]\n",
      "Surface_Values_boundary_z_min_Derived_Number_Density_proton <class 'sdf.BlockPlainVariable'> [250, 250, 250]\n",
      "Wall_time <class 'sdf.BlockConstant'> [1]\n"
     ]
    }
   ],
   "source": [
    "# list variables\n",
    "print(\"Variables in the data file:\")\n",
    "sh.list_variables(data)"
   ]
  },
  {
   "cell_type": "code",
   "execution_count": null,
   "metadata": {},
   "outputs": [
    {
     "name": "stdout",
     "output_type": "stream",
     "text": [
      "error: Variable cannot be auto determined. Use plot1d or plot2d\n"
     ]
    }
   ],
   "source": [
    "# plot the data\n",
    "plt.ion()\n",
    "sh.plot_auto(data, 'density')"
   ]
  },
  {
   "cell_type": "code",
   "execution_count": null,
   "metadata": {},
   "outputs": [],
   "source": []
  }
 ],
 "metadata": {
  "kernelspec": {
   "display_name": "venv",
   "language": "python",
   "name": "python3"
  },
  "language_info": {
   "codemirror_mode": {
    "name": "ipython",
    "version": 3
   },
   "file_extension": ".py",
   "mimetype": "text/x-python",
   "name": "python",
   "nbconvert_exporter": "python",
   "pygments_lexer": "ipython3",
   "version": "3.13.1"
  }
 },
 "nbformat": 4,
 "nbformat_minor": 2
}
